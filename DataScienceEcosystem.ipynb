{
 "cells": [
  {
   "cell_type": "markdown",
   "id": "13c22367-ce01-49fe-9c09-616746e3b139",
   "metadata": {},
   "source": [
    "# Data Science Tools and Ecosystem"
   ]
  },
  {
   "cell_type": "markdown",
   "id": "5947e868-f8f4-4f73-851c-632b25834dfe",
   "metadata": {},
   "source": [
    "In this notebook, Data Science Tools and Ecosystem are summarized."
   ]
  },
  {
   "cell_type": "markdown",
   "id": "fd501d25-ee00-4ed7-9387-c9b611b6ecd5",
   "metadata": {},
   "source": [
    "**Objectives:**"
   ]
  },
  {
   "cell_type": "markdown",
   "id": "fb85ee68-2d64-4f7d-a7ff-4974b53b66e9",
   "metadata": {},
   "source": [
    "* List popular languages for Data Science\n",
    "* List commonly used libraries used by Data Scientist\n",
    "* Examples of arithmetic expression in Python"
   ]
  },
  {
   "cell_type": "markdown",
   "id": "3157f449-1f15-4ccd-82ae-f0fbe78f5f99",
   "metadata": {},
   "source": [
    "1. Python\n",
    "2. R\n",
    "3. SQL"
   ]
  },
  {
   "cell_type": "markdown",
   "id": "053f7ad8-6af8-450c-a5cc-5b1ad8b81803",
   "metadata": {},
   "source": [
    "Some of the commonly used libraries used by Data Scientists include:\n",
    "1. Pandas\n",
    "2. NumPy\n",
    "3. Matplotlib"
   ]
  },
  {
   "cell_type": "markdown",
   "id": "d8c3f226-7276-4b99-899d-928d8ce2e1ed",
   "metadata": {},
   "source": [
    "|Data Science Tools|\n",
    "|-------------------|\n",
    "|Jupyter|\n",
    "|Apache Zeppelin|\n",
    "|R studio|"
   ]
  },
  {
   "cell_type": "markdown",
   "id": "7b867e2b-00ce-40fd-b862-16411d2cc818",
   "metadata": {},
   "source": [
    "### Below are a few examples of evaluating arithmetic expressions in Python"
   ]
  },
  {
   "cell_type": "markdown",
   "id": "ea8b70f5-9c57-4728-8c46-5372efe56905",
   "metadata": {},
   "source": [
    "This a simple arithmetic expression to mutiply then add integers"
   ]
  },
  {
   "cell_type": "code",
   "execution_count": 2,
   "id": "0665d832-b153-4434-9a2c-b258bbe78729",
   "metadata": {},
   "outputs": [
    {
     "data": {
      "text/plain": [
       "17"
      ]
     },
     "execution_count": 2,
     "metadata": {},
     "output_type": "execute_result"
    }
   ],
   "source": [
    "(3*4)+5"
   ]
  },
  {
   "cell_type": "markdown",
   "id": "8787a90a-b1b0-4a02-9803-fa9d72f84c54",
   "metadata": {},
   "source": [
    "This will convert 200 minutes to hours by diving by 60"
   ]
  },
  {
   "cell_type": "code",
   "execution_count": 3,
   "id": "26d58647-7047-497d-8636-2508caa3f0b3",
   "metadata": {},
   "outputs": [
    {
     "data": {
      "text/plain": [
       "3.3333333333333335"
      ]
     },
     "execution_count": 3,
     "metadata": {},
     "output_type": "execute_result"
    }
   ],
   "source": [
    "(200/60)"
   ]
  },
  {
   "cell_type": "markdown",
   "id": "c24816ee-84bb-46c8-ad1d-6facd79a23d7",
   "metadata": {},
   "source": [
    "## Author\n",
    "Nicole Perez"
   ]
  },
  {
   "cell_type": "code",
   "execution_count": null,
   "id": "03b45e2e-aedd-44c7-a828-99cdca3916c2",
   "metadata": {},
   "outputs": [],
   "source": []
  }
 ],
 "metadata": {
  "kernelspec": {
   "display_name": "Python 3 (ipykernel)",
   "language": "python",
   "name": "python3"
  },
  "language_info": {
   "codemirror_mode": {
    "name": "ipython",
    "version": 3
   },
   "file_extension": ".py",
   "mimetype": "text/x-python",
   "name": "python",
   "nbconvert_exporter": "python",
   "pygments_lexer": "ipython3",
   "version": "3.11.9"
  }
 },
 "nbformat": 4,
 "nbformat_minor": 5
}
